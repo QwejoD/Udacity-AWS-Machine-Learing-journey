{
  "nbformat": 4,
  "nbformat_minor": 0,
  "metadata": {
    "colab": {
      "provenance": [],
      "authorship_tag": "ABX9TyOXOejSOM3fYlYz/bCstDq2",
      "include_colab_link": true
    },
    "kernelspec": {
      "name": "python3",
      "display_name": "Python 3"
    },
    "language_info": {
      "name": "python"
    }
  },
  "cells": [
    {
      "cell_type": "markdown",
      "metadata": {
        "id": "view-in-github",
        "colab_type": "text"
      },
      "source": [
        "<a href=\"https://colab.research.google.com/github/QwejoD/Udacity-AWS-Machine-Learing-journey/blob/main/Regression_dataset_and_model.ipynb\" target=\"_parent\"><img src=\"https://colab.research.google.com/assets/colab-badge.svg\" alt=\"Open In Colab\"/></a>"
      ]
    },
    {
      "cell_type": "code",
      "execution_count": null,
      "metadata": {
        "id": "zirmnOZ69Wmn"
      },
      "outputs": [],
      "source": [
        "import pandas as pd\n",
        "from sklearn.datasets import make_regression\n",
        "from sklearn.model_selection import train_test_split"
      ]
    },
    {
      "cell_type": "code",
      "source": [
        "# Creating a regression dataset with 1000 samples, 5 feature columns, 2 which are actually useful, and 1 target column\n",
        "regression_dataset = make_regression(\n",
        "    n_samples=1000, n_features=5, n_informative=2, n_targets=1, random_state=0)\n"
      ],
      "metadata": {
        "id": "lEw4kQRT_zCR"
      },
      "execution_count": null,
      "outputs": []
    },
    {
      "cell_type": "code",
      "source": [
        "\n"
      ],
      "metadata": {
        "id": "RZ_ggGueCT-t"
      },
      "execution_count": null,
      "outputs": []
    },
    {
      "cell_type": "code",
      "source": [
        "df = pd.DataFrame(regression_dataset[0])\n",
        "\n",
        "\n",
        "df[\"target\"] = regression_dataset[1]"
      ],
      "metadata": {
        "id": "ga0Lgp9P_zK2"
      },
      "execution_count": null,
      "outputs": []
    },
    {
      "cell_type": "code",
      "source": [
        "df.head()"
      ],
      "metadata": {
        "colab": {
          "base_uri": "https://localhost:8080/",
          "height": 206
        },
        "id": "itao4ww9_zRt",
        "outputId": "89e56385-1538-4e6b-f244-a260eb89c0ef"
      },
      "execution_count": null,
      "outputs": [
        {
          "output_type": "execute_result",
          "data": {
            "text/plain": [
              "          0         1         2         3         4      target\n",
              "0  0.236225 -0.323289 -0.018429 -1.548471  1.311427   70.618083\n",
              "1 -0.801497  0.271170 -0.525641 -0.887780  0.936399   52.757870\n",
              "2  0.687881  0.417044 -1.203735  0.498727 -0.737932  -43.728456\n",
              "3 -0.679593 -1.063433 -1.797456  0.913202  2.211304  156.835125\n",
              "4  0.096479 -0.507060  0.522083  0.155794  1.520004  102.748706"
            ],
            "text/html": [
              "\n",
              "  <div id=\"df-6c2b7819-7c84-4f7d-976a-1649a07807bd\">\n",
              "    <div class=\"colab-df-container\">\n",
              "      <div>\n",
              "<style scoped>\n",
              "    .dataframe tbody tr th:only-of-type {\n",
              "        vertical-align: middle;\n",
              "    }\n",
              "\n",
              "    .dataframe tbody tr th {\n",
              "        vertical-align: top;\n",
              "    }\n",
              "\n",
              "    .dataframe thead th {\n",
              "        text-align: right;\n",
              "    }\n",
              "</style>\n",
              "<table border=\"1\" class=\"dataframe\">\n",
              "  <thead>\n",
              "    <tr style=\"text-align: right;\">\n",
              "      <th></th>\n",
              "      <th>0</th>\n",
              "      <th>1</th>\n",
              "      <th>2</th>\n",
              "      <th>3</th>\n",
              "      <th>4</th>\n",
              "      <th>target</th>\n",
              "    </tr>\n",
              "  </thead>\n",
              "  <tbody>\n",
              "    <tr>\n",
              "      <th>0</th>\n",
              "      <td>0.236225</td>\n",
              "      <td>-0.323289</td>\n",
              "      <td>-0.018429</td>\n",
              "      <td>-1.548471</td>\n",
              "      <td>1.311427</td>\n",
              "      <td>70.618083</td>\n",
              "    </tr>\n",
              "    <tr>\n",
              "      <th>1</th>\n",
              "      <td>-0.801497</td>\n",
              "      <td>0.271170</td>\n",
              "      <td>-0.525641</td>\n",
              "      <td>-0.887780</td>\n",
              "      <td>0.936399</td>\n",
              "      <td>52.757870</td>\n",
              "    </tr>\n",
              "    <tr>\n",
              "      <th>2</th>\n",
              "      <td>0.687881</td>\n",
              "      <td>0.417044</td>\n",
              "      <td>-1.203735</td>\n",
              "      <td>0.498727</td>\n",
              "      <td>-0.737932</td>\n",
              "      <td>-43.728456</td>\n",
              "    </tr>\n",
              "    <tr>\n",
              "      <th>3</th>\n",
              "      <td>-0.679593</td>\n",
              "      <td>-1.063433</td>\n",
              "      <td>-1.797456</td>\n",
              "      <td>0.913202</td>\n",
              "      <td>2.211304</td>\n",
              "      <td>156.835125</td>\n",
              "    </tr>\n",
              "    <tr>\n",
              "      <th>4</th>\n",
              "      <td>0.096479</td>\n",
              "      <td>-0.507060</td>\n",
              "      <td>0.522083</td>\n",
              "      <td>0.155794</td>\n",
              "      <td>1.520004</td>\n",
              "      <td>102.748706</td>\n",
              "    </tr>\n",
              "  </tbody>\n",
              "</table>\n",
              "</div>\n",
              "      <button class=\"colab-df-convert\" onclick=\"convertToInteractive('df-6c2b7819-7c84-4f7d-976a-1649a07807bd')\"\n",
              "              title=\"Convert this dataframe to an interactive table.\"\n",
              "              style=\"display:none;\">\n",
              "        \n",
              "  <svg xmlns=\"http://www.w3.org/2000/svg\" height=\"24px\"viewBox=\"0 0 24 24\"\n",
              "       width=\"24px\">\n",
              "    <path d=\"M0 0h24v24H0V0z\" fill=\"none\"/>\n",
              "    <path d=\"M18.56 5.44l.94 2.06.94-2.06 2.06-.94-2.06-.94-.94-2.06-.94 2.06-2.06.94zm-11 1L8.5 8.5l.94-2.06 2.06-.94-2.06-.94L8.5 2.5l-.94 2.06-2.06.94zm10 10l.94 2.06.94-2.06 2.06-.94-2.06-.94-.94-2.06-.94 2.06-2.06.94z\"/><path d=\"M17.41 7.96l-1.37-1.37c-.4-.4-.92-.59-1.43-.59-.52 0-1.04.2-1.43.59L10.3 9.45l-7.72 7.72c-.78.78-.78 2.05 0 2.83L4 21.41c.39.39.9.59 1.41.59.51 0 1.02-.2 1.41-.59l7.78-7.78 2.81-2.81c.8-.78.8-2.07 0-2.86zM5.41 20L4 18.59l7.72-7.72 1.47 1.35L5.41 20z\"/>\n",
              "  </svg>\n",
              "      </button>\n",
              "      \n",
              "  <style>\n",
              "    .colab-df-container {\n",
              "      display:flex;\n",
              "      flex-wrap:wrap;\n",
              "      gap: 12px;\n",
              "    }\n",
              "\n",
              "    .colab-df-convert {\n",
              "      background-color: #E8F0FE;\n",
              "      border: none;\n",
              "      border-radius: 50%;\n",
              "      cursor: pointer;\n",
              "      display: none;\n",
              "      fill: #1967D2;\n",
              "      height: 32px;\n",
              "      padding: 0 0 0 0;\n",
              "      width: 32px;\n",
              "    }\n",
              "\n",
              "    .colab-df-convert:hover {\n",
              "      background-color: #E2EBFA;\n",
              "      box-shadow: 0px 1px 2px rgba(60, 64, 67, 0.3), 0px 1px 3px 1px rgba(60, 64, 67, 0.15);\n",
              "      fill: #174EA6;\n",
              "    }\n",
              "\n",
              "    [theme=dark] .colab-df-convert {\n",
              "      background-color: #3B4455;\n",
              "      fill: #D2E3FC;\n",
              "    }\n",
              "\n",
              "    [theme=dark] .colab-df-convert:hover {\n",
              "      background-color: #434B5C;\n",
              "      box-shadow: 0px 1px 3px 1px rgba(0, 0, 0, 0.15);\n",
              "      filter: drop-shadow(0px 1px 2px rgba(0, 0, 0, 0.3));\n",
              "      fill: #FFFFFF;\n",
              "    }\n",
              "  </style>\n",
              "\n",
              "      <script>\n",
              "        const buttonEl =\n",
              "          document.querySelector('#df-6c2b7819-7c84-4f7d-976a-1649a07807bd button.colab-df-convert');\n",
              "        buttonEl.style.display =\n",
              "          google.colab.kernel.accessAllowed ? 'block' : 'none';\n",
              "\n",
              "        async function convertToInteractive(key) {\n",
              "          const element = document.querySelector('#df-6c2b7819-7c84-4f7d-976a-1649a07807bd');\n",
              "          const dataTable =\n",
              "            await google.colab.kernel.invokeFunction('convertToInteractive',\n",
              "                                                     [key], {});\n",
              "          if (!dataTable) return;\n",
              "\n",
              "          const docLinkHtml = 'Like what you see? Visit the ' +\n",
              "            '<a target=\"_blank\" href=https://colab.research.google.com/notebooks/data_table.ipynb>data table notebook</a>'\n",
              "            + ' to learn more about interactive tables.';\n",
              "          element.innerHTML = '';\n",
              "          dataTable['output_type'] = 'display_data';\n",
              "          await google.colab.output.renderOutput(dataTable, element);\n",
              "          const docLink = document.createElement('div');\n",
              "          docLink.innerHTML = docLinkHtml;\n",
              "          element.appendChild(docLink);\n",
              "        }\n",
              "      </script>\n",
              "    </div>\n",
              "  </div>\n",
              "  "
            ]
          },
          "metadata": {},
          "execution_count": 18
        }
      ]
    },
    {
      "cell_type": "code",
      "source": [
        "# Create a train: 0.8 | test: 0.2 ratio dataset\n",
        "df_train, df_test = train_test_split(df, test_size=0.2, random_state=0)\n",
        "\n",
        "# Create a train: 0.6 | validation: 0.2 ratio dataset\n",
        "df_train, df_val = train_test_split(df_train, test_size=0.25, random_state=0)\n",
        "\n",
        "# Final dataset sizes: train: 0.6, validation: 0.2, test: 0.2,"
      ],
      "metadata": {
        "id": "1-oh8nOa_zcb"
      },
      "execution_count": null,
      "outputs": []
    },
    {
      "cell_type": "code",
      "source": [
        "# Output each shape to confirm the size of train/validation/test\n",
        "print(f\"Train: {df_train}\")\n",
        "print(f\"Validation: {df_val}\")\n",
        "print(f\"Test: {df_test}\")"
      ],
      "metadata": {
        "colab": {
          "base_uri": "https://localhost:8080/"
        },
        "id": "YLBpIUVn_zm3",
        "outputId": "fefc0428-d9b1-4f90-d102-d05e61aa75eb"
      },
      "execution_count": null,
      "outputs": [
        {
          "output_type": "stream",
          "name": "stdout",
          "text": [
            "Train:             0         1         2         3         4      target\n",
            "787  0.275667 -1.641703 -0.730874  0.719668 -0.248419   -8.808848\n",
            "683 -1.342867  1.251292 -0.604033 -0.824147 -0.167253  -19.952561\n",
            "616  1.621728 -2.096557 -0.093123 -1.525778  0.478125   15.447073\n",
            "691 -1.170261  0.079926  1.202768  0.430374 -0.951992  -58.695696\n",
            "972  0.089620 -0.825779 -0.395222  1.010694 -0.743228  -38.595137\n",
            "..        ...       ...       ...       ...       ...         ...\n",
            "431 -0.235503  2.011243 -1.377019  1.121907  1.392837  104.643680\n",
            "243 -0.612626  0.133913  0.104907  0.774161 -0.774459  -43.206352\n",
            "444 -0.547518 -1.109478  0.978567  0.610392  0.286013   25.559747\n",
            "866  0.191159 -1.938357 -0.562252  1.423475 -0.785666  -36.994540\n",
            "943  0.270411 -1.592216 -0.167610  0.715783  0.158668   18.220595\n",
            "\n",
            "[600 rows x 6 columns]\n",
            "Validation:             0         1         2         3         4      target\n",
            "375  1.346221 -0.972403  1.496140 -0.822828 -1.490265 -107.918097\n",
            "289  0.447054  0.938839 -0.446465 -0.174614 -0.219244  -16.450526\n",
            "404  0.407462  0.672295  1.849264 -0.149635 -0.435154  -30.540750\n",
            "535  0.413385  0.829630 -0.178621 -1.213252  2.600672  159.943903\n",
            "509  0.736411  0.557487  0.420142 -0.863208 -1.282503  -94.534685\n",
            "..        ...       ...       ...       ...       ...         ...\n",
            "148 -1.012457 -0.932570 -1.426938 -1.684729 -0.499417  -51.262038\n",
            "44   0.907659 -0.334063  1.817826 -0.821265 -0.913656  -69.557098\n",
            "892  0.495851 -0.114962  0.795550  0.273729 -1.394840  -89.823268\n",
            "154  0.508653  1.736767  0.523085  1.798412  0.224679   34.210171\n",
            "758 -0.576242 -0.224827  1.077037 -0.110591 -0.432432  -29.941428\n",
            "\n",
            "[200 rows x 6 columns]\n",
            "Test:             0         1         2         3         4      target\n",
            "993 -0.628981 -1.431798  0.500017 -0.011136  1.344074   89.260937\n",
            "859  2.497200 -1.051880 -0.507518 -0.505358 -0.815792  -59.664393\n",
            "298  1.133080 -0.131054 -1.118312 -0.363859 -0.805627  -57.472323\n",
            "553  1.297082 -0.596771 -0.135872 -1.354585 -0.634844  -56.730559\n",
            "672 -1.150692 -1.022855  0.397565 -0.250757 -0.094062   -8.941845\n",
            "..        ...       ...       ...       ...       ...         ...\n",
            "679 -1.393769 -0.725282 -0.216874 -1.032079 -0.364435  -35.292988\n",
            "722  0.933661  0.924111  0.446333  0.529199  2.198112  151.843465\n",
            "215 -0.448767 -0.721431 -0.332102 -0.120407 -1.479316  -99.663848\n",
            "653  0.962342  0.457310  0.371811 -0.586320 -0.457641  -36.715007\n",
            "150 -0.197787  0.898241 -0.173608  0.677246 -0.031911    5.134303\n",
            "\n",
            "[200 rows x 6 columns]\n"
          ]
        }
      ]
    },
    {
      "cell_type": "code",
      "source": [
        "# Output all datasets to csv\n",
        "df_train.to_csv(\"train-data\")\n",
        "df_val.to_csv(\"val-data\")\n",
        "df_test.to_csv(\"test-data\")"
      ],
      "metadata": {
        "id": "dKJ71DFJ_zvJ"
      },
      "execution_count": null,
      "outputs": []
    },
    {
      "cell_type": "code",
      "source": [],
      "metadata": {
        "id": "P3pdyXX3_z1x"
      },
      "execution_count": null,
      "outputs": []
    },
    {
      "cell_type": "code",
      "source": [],
      "metadata": {
        "id": "Y3qsDCdO_z8z"
      },
      "execution_count": null,
      "outputs": []
    },
    {
      "cell_type": "code",
      "source": [],
      "metadata": {
        "id": "xavEIZQq_0Jo"
      },
      "execution_count": null,
      "outputs": []
    },
    {
      "cell_type": "code",
      "source": [],
      "metadata": {
        "id": "-RjCLt3c_0SN"
      },
      "execution_count": null,
      "outputs": []
    },
    {
      "cell_type": "code",
      "source": [],
      "metadata": {
        "id": "f13ZcyeJ_0Z2"
      },
      "execution_count": null,
      "outputs": []
    }
  ]
}